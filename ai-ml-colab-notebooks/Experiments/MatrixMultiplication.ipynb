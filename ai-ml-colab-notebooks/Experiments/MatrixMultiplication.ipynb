{
 "cells": [
  {
   "cell_type": "code",
   "execution_count": 1,
   "id": "c8551a79",
   "metadata": {},
   "outputs": [],
   "source": [
    "import numpy as np\n"
   ]
  },
  {
   "cell_type": "code",
   "execution_count": 7,
   "id": "6e1e6caf",
   "metadata": {},
   "outputs": [
    {
     "name": "stdout",
     "output_type": "stream",
     "text": [
      "MATRIX1:\n",
      " [[13 24]\n",
      " [34 66]]\n",
      "MATRIX2:\n",
      " [[24 55]\n",
      " [32 88]]\n",
      "SUM OF THE MATRIX\n",
      " [[ 37  79]\n",
      " [ 66 154]]\n"
     ]
    }
   ],
   "source": [
    "x = np.array([[13,24],[34,66]])\n",
    "y = np.array([[24,55],[32,88]])\n",
    "print(\"MATRIX1:\\n\",x)\n",
    "print(\"MATRIX2:\\n\",y)\n",
    "sum = np.add(x,y)\n",
    "print(\"SUM OF THE MATRIX\\n\",sum)"
   ]
  },
  {
   "cell_type": "code",
   "execution_count": 13,
   "id": "6d832f43",
   "metadata": {},
   "outputs": [
    {
     "name": "stdout",
     "output_type": "stream",
     "text": [
      "MATRIX1:\n",
      " [[13 24]\n",
      " [34 66]]\n",
      "MATRIX2:\n",
      " [[24 55]\n",
      " [32 88]]\n",
      "DIFFERENCE OF THE MATRIX\n",
      " [[-11 -31]\n",
      " [  2 -22]]\n"
     ]
    }
   ],
   "source": [
    "x = np.array([[13,24],[34,66]])\n",
    "y = np.array([[24,55],[32,88]])\n",
    "print(\"MATRIX1:\\n\",x)\n",
    "print(\"MATRIX2:\\n\",y)\n",
    "difference= np.subtract(x,y)\n",
    "print(\"DIFFERENCE OF THE MATRIX\\n\",difference)"
   ]
  },
  {
   "cell_type": "code",
   "execution_count": 14,
   "id": "cc9dc5b7",
   "metadata": {},
   "outputs": [
    {
     "name": "stdout",
     "output_type": "stream",
     "text": [
      "MATRIX1:\n",
      " [[13 24]\n",
      " [34 66]]\n",
      "MATRIX2:\n",
      " [[24 55]\n",
      " [32 88]]\n",
      "MULTIPLICATION OF THE MATRIX\n",
      " [[1080 2827]\n",
      " [2928 7678]]\n"
     ]
    }
   ],
   "source": [
    "x = np.array([[13,24],[34,66]])\n",
    "y = np.array([[24,55],[32,88]])\n",
    "print(\"MATRIX1:\\n\",x)\n",
    "print(\"MATRIX2:\\n\",y)\n",
    "mul= np.dot(x,y)\n",
    "print(\"MULTIPLICATION OF THE MATRIX\\n\",mul)"
   ]
  },
  {
   "cell_type": "code",
   "execution_count": 15,
   "id": "40a630a7",
   "metadata": {},
   "outputs": [
    {
     "name": "stdout",
     "output_type": "stream",
     "text": [
      "MATRIX1:\n",
      " [[13 24]\n",
      " [34 66]]\n",
      "MATRIX2:\n",
      " [[24 55]\n",
      " [32 88]]\n",
      "DIVISION OF THE MATRIX\n",
      " [[0.54166667 0.43636364]\n",
      " [1.0625     0.75      ]]\n"
     ]
    }
   ],
   "source": [
    "x = np.array([[13,24],[34,66]])\n",
    "y = np.array([[24,55],[32,88]])\n",
    "print(\"MATRIX1:\\n\",x)\n",
    "print(\"MATRIX2:\\n\",y)\n",
    "div= np.divide(x,y)\n",
    "print(\"DIVISION OF THE MATRIX\\n\",div)"
   ]
  },
  {
   "cell_type": "code",
   "execution_count": 17,
   "id": "02fe999f",
   "metadata": {},
   "outputs": [
    {
     "name": "stdout",
     "output_type": "stream",
     "text": [
      "MATRIX1:\n",
      " [[13 24]\n",
      " [34 66]]\n",
      "MATRIX2:\n",
      " [[24 55]\n",
      " [32 88]]\n",
      "TRANSPOSE OF THE MATRIX\n",
      " [[13 34]\n",
      " [24 66]]\n"
     ]
    }
   ],
   "source": [
    "x = np.array([[13,24],[34,66]])\n",
    "y = np.array([[24,55],[32,88]])\n",
    "print(\"MATRIX1:\\n\",x)\n",
    "print(\"MATRIX2:\\n\",y)\n",
    "trans= np.transpose(x)\n",
    "print(\"TRANSPOSE OF THE MATRIX\\n\",trans)"
   ]
  },
  {
   "cell_type": "code",
   "execution_count": 18,
   "id": "03bd6de6",
   "metadata": {},
   "outputs": [
    {
     "name": "stdout",
     "output_type": "stream",
     "text": [
      "MATRIX1:\n",
      " [[13 24]\n",
      " [34 66]]\n",
      "MATRIX2:\n",
      " [[24 55]\n",
      " [32 88]]\n",
      "INVERSE OF THE MATRIX\n",
      " [[ 1.57142857 -0.57142857]\n",
      " [-0.80952381  0.30952381]]\n"
     ]
    }
   ],
   "source": [
    "x = np.array([[13,24],[34,66]])\n",
    "y = np.array([[24,55],[32,88]])\n",
    "print(\"MATRIX1:\\n\",x)\n",
    "print(\"MATRIX2:\\n\",y)\n",
    "INV= np.linalg.inv(x)\n",
    "print(\"INVERSE OF THE MATRIX\\n\",INV)"
   ]
  }
 ],
 "metadata": {
  "kernelspec": {
   "display_name": "Python 3",
   "language": "python",
   "name": "python3"
  },
  "language_info": {
   "codemirror_mode": {
    "name": "ipython",
    "version": 3
   },
   "file_extension": ".py",
   "mimetype": "text/x-python",
   "name": "python",
   "nbconvert_exporter": "python",
   "pygments_lexer": "ipython3",
   "version": "3.14.0"
  }
 },
 "nbformat": 4,
 "nbformat_minor": 5
}
