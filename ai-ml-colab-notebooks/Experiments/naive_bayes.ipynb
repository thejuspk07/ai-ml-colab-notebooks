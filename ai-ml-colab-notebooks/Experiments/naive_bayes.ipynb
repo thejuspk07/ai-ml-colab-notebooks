{
 "cells": [
  {
   "cell_type": "code",
   "execution_count": null,
   "id": "288cc5a2",
   "metadata": {},
   "outputs": [],
   "source": [
    "import pandas  as pd\n",
    "from sklearn.datasets import load_iris\n",
    "iris = load_iris\n"
   ]
  },
  {
   "cell_type": "code",
   "execution_count": null,
   "id": "203af587",
   "metadata": {},
   "outputs": [],
   "source": []
  }
 ],
 "metadata": {
  "language_info": {
   "name": "python"
  }
 },
 "nbformat": 4,
 "nbformat_minor": 5
}
